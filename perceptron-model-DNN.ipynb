{
 "cells": [
  {
   "cell_type": "markdown",
   "id": "6219a853",
   "metadata": {},
   "source": [
    "# BUILDING A PERCEPTRON DL MODEL\n",
    "# GRADIENT DESCENT ALGORITHM"
   ]
  },
  {
   "cell_type": "code",
   "execution_count": 1,
   "id": "46edc1a7",
   "metadata": {},
   "outputs": [],
   "source": [
    "import numpy as np\n",
    "import pandas as pd\n",
    "import matplotlib.pyplot as plt\n",
    "%matplotlib inline\n",
    "import seaborn as sns"
   ]
  },
  {
   "cell_type": "code",
   "execution_count": 2,
   "id": "2e2be456",
   "metadata": {},
   "outputs": [],
   "source": [
    "x1 = [10,8,15]\n",
    "x2 = [8,20,25]\n",
    "y = [20,15,30]\n",
    "# motive\n",
    "# find best values of w1, w2, b that fit to the above dataset\n",
    "# y_hat = w1x1 + w2x2 + b  --> predicted values"
   ]
  },
  {
   "cell_type": "code",
   "execution_count": 18,
   "id": "5803d44e",
   "metadata": {},
   "outputs": [],
   "source": [
    "n = len(x1)\n",
    "lr = 0.01 # nothing but alpha in the G D equation\n",
    "np.random.seed(123)\n",
    "rand = np.random.randn(3)"
   ]
  },
  {
   "cell_type": "code",
   "execution_count": 19,
   "id": "b44e1498",
   "metadata": {},
   "outputs": [
    {
     "name": "stdout",
     "output_type": "stream",
     "text": [
      "Initialised Weights and Bias : \n",
      " w1 = -1.0856306033005612 | w2 = 0.9973454465835858 | b = 0.28297849805199204\n"
     ]
    }
   ],
   "source": [
    "w1, w2, b = rand[0], rand[1], rand[2]\n",
    "print(\"Initialised Weights and Bias : \\n\", \"w1 =\",w1, \"|\", \"w2 =\",w2, \"|\", \"b =\",b)"
   ]
  },
  {
   "cell_type": "code",
   "execution_count": 65,
   "id": "c327ebf2",
   "metadata": {},
   "outputs": [],
   "source": [
    "# forward pass --> passing observation through the perceptron model\n",
    "def forward_pass(w1, w2, b):\n",
    "    y_pred = []\n",
    "    total_error = 0\n",
    "    for i in range(n):\n",
    "        y_hat = w1*x1[i] + w2*x2[i] + b\n",
    "        y_pred.append(y_hat)\n",
    "        # computing sum of squared error\n",
    "        err = (y[i] - y_hat)**2\n",
    "        total_error += err\n",
    "    return y_pred, total_error"
   ]
  },
  {
   "cell_type": "code",
   "execution_count": 43,
   "id": "039bc024",
   "metadata": {},
   "outputs": [
    {
     "name": "stdout",
     "output_type": "stream",
     "text": [
      "y predicted =  [-2.594563962284934, 11.544842603319218, 8.932155613133222]\n",
      "total error =  966.3065003908569\n"
     ]
    }
   ],
   "source": [
    "print(\"y predicted = \", forward_pass(w1, w2, b)[0])\n",
    "print(\"total error = \", forward_pass(w1, w2, b)[1])"
   ]
  },
  {
   "cell_type": "code",
   "execution_count": 44,
   "id": "6dc1ce90",
   "metadata": {},
   "outputs": [],
   "source": [
    "y_pred = forward_pass(w1, w2, b)[0]"
   ]
  },
  {
   "cell_type": "code",
   "execution_count": 45,
   "id": "3e46a842",
   "metadata": {},
   "outputs": [],
   "source": [
    "# updating the weights\n",
    "def weight_update(w1, w2, b, y_pred):\n",
    "    for i in range(n):\n",
    "        dj_dw1 = -2*(y[i] - y_pred[i])*x1[i]\n",
    "        dj_dw2 = -2*(y[i] - y_pred[i])*x2[i]\n",
    "        dj_db = -2*(y[i] - y_pred[i])\n",
    "        \n",
    "        w1 -= lr*dj_dw1\n",
    "        w2 -= lr*dj_dw2\n",
    "        b -= lr*dj_db\n",
    "    return w1, w2, b"
   ]
  },
  {
   "cell_type": "code",
   "execution_count": 46,
   "id": "d4cbd6d4",
   "metadata": {},
   "outputs": [
    {
     "data": {
      "text/plain": [
       "(10.306460688685384, 16.52846083265488, 1.2253298129686419)"
      ]
     },
     "execution_count": 46,
     "metadata": {},
     "output_type": "execute_result"
    }
   ],
   "source": [
    "weight_update(w1, w2, b, y_pred)"
   ]
  },
  {
   "cell_type": "code",
   "execution_count": 53,
   "id": "aafff48a",
   "metadata": {},
   "outputs": [
    {
     "name": "stdout",
     "output_type": "stream",
     "text": [
      "Initialised Weights and Bias : \n",
      " w1 = -1.0856306033005612 | w2 = 0.9973454465835858 | b = 0.28297849805199204\n",
      "Iteration: 0 | Error: 966.3065003908569\n",
      "Iteration: 1 | Error: 496834.83042687085\n",
      "Iteration: 2 | Error: 389099638.056939\n",
      "Iteration: 3 | Error: 304754327729.77747\n",
      "Iteration: 4 | Error: 238692593959286.25\n",
      "Iteration: 5 | Error: 1.869510921656768e+17\n",
      "Iteration: 6 | Error: 1.4642561917066029e+20\n",
      "Iteration: 7 | Error: 1.146848713272593e+23\n",
      "Iteration: 8 | Error: 8.982457978217963e+25\n",
      "Iteration: 9 | Error: 7.03532649046742e+28\n",
      "Iteration: 10 | Error: 5.510275577965147e+31\n",
      "Iteration: 11 | Error: 4.315810643082442e+34\n",
      "Iteration: 12 | Error: 3.380270413593731e+37\n",
      "Iteration: 13 | Error: 2.6475276637383434e+40\n",
      "Iteration: 14 | Error: 2.0736218919266193e+43\n",
      "Iteration: 15 | Error: 1.6241219344261005e+46\n",
      "Iteration: 16 | Error: 1.2720602864745044e+49\n",
      "Iteration: 17 | Error: 9.963152015414303e+51\n",
      "Iteration: 18 | Error: 7.803435036665116e+54\n",
      "Iteration: 19 | Error: 6.1118808864144925e+57\n",
      "Iteration: 20 | Error: 4.787005696107249e+60\n",
      "Iteration: 21 | Error: 3.749324301378274e+63\n",
      "Iteration: 22 | Error: 2.9365815729730718e+66\n",
      "Iteration: 23 | Error: 2.3000174542263387e+69\n",
      "Iteration: 24 | Error: 1.8014416280593873e+72\n",
      "Iteration: 25 | Error: 1.4109423097386225e+75\n",
      "Iteration: 26 | Error: 1.1050917056663745e+78\n",
      "Iteration: 27 | Error: 8.655404756831268e+80\n",
      "Iteration: 28 | Error: 6.779168744136277e+83\n",
      "Iteration: 29 | Error: 5.309645262424337e+86\n",
      "Iteration: 30 | Error: 4.1586710519885657e+89\n",
      "Iteration: 31 | Error: 3.257194042893772e+92\n",
      "Iteration: 32 | Error: 2.5511306137064105e+95\n",
      "Iteration: 33 | Error: 1.9981208741275795e+98\n",
      "Iteration: 34 | Error: 1.5649873064805083e+101\n",
      "Iteration: 35 | Error: 1.2257442986348265e+104\n",
      "Iteration: 36 | Error: 9.600391513811269e+106\n",
      "Iteration: 37 | Error: 7.51931029343649e+109\n",
      "Iteration: 38 | Error: 5.889345992571304e+112\n",
      "Iteration: 39 | Error: 4.612709792079101e+115\n",
      "Iteration: 40 | Error: 3.6128105994758836e+118\n",
      "Iteration: 41 | Error: 2.8296600081146974e+121\n",
      "Iteration: 42 | Error: 2.2162733254506214e+124\n",
      "Iteration: 43 | Error: 1.7358507520401928e+127\n",
      "Iteration: 44 | Error: 1.3595695976469204e+130\n",
      "Iteration: 45 | Error: 1.0648550796624068e+133\n",
      "Iteration: 46 | Error: 8.340259613375884e+135\n",
      "Iteration: 47 | Error: 6.532337756285257e+138\n",
      "Iteration: 48 | Error: 5.1163199397000306e+141\n",
      "Iteration: 49 | Error: 4.007252947106955e+144\n",
      "Iteration: 50 | Error: 3.138598909246254e+147\n",
      "Iteration: 51 | Error: 2.4582434009396846e+150\n",
      "Iteration: 52 | Error: 1.9253688645787324e+153\n",
      "Iteration: 53 | Error: 1.5080057830205694e+156\n",
      "Iteration: 54 | Error: 1.181114685845429e+159\n",
      "Iteration: 55 | Error: 9.250839199870087e+161\n",
      "Iteration: 56 | Error: 7.245530593042892e+164\n",
      "Iteration: 57 | Error: 5.674913641938317e+167\n",
      "Iteration: 58 | Error: 4.444760039296541e+170\n",
      "Iteration: 59 | Error: 3.4812673907368193e+173\n",
      "Iteration: 60 | Error: 2.726631480363474e+176\n",
      "Iteration: 61 | Error: 2.1355783383635972e+179\n",
      "Iteration: 62 | Error: 1.6726480538836354e+182\n",
      "Iteration: 63 | Error: 1.3100673770199936e+185\n",
      "Iteration: 64 | Error: 1.026083477840489e+188\n",
      "Iteration: 65 | Error: 8.036588972180512e+190\n",
      "Iteration: 66 | Error: 6.294493937637872e+193\n",
      "Iteration: 67 | Error: 4.9300336334371375e+196\n",
      "Iteration: 68 | Error: 3.861348007897578e+199\n",
      "Iteration: 69 | Error: 3.0243218498490425e+202\n",
      "Iteration: 70 | Error: 2.3687382315106113e+205\n",
      "Iteration: 71 | Error: 1.855265771300131e+208\n",
      "Iteration: 72 | Error: 1.4530989690502021e+211\n",
      "Iteration: 73 | Error: 1.1381100468290688e+214\n",
      "Iteration: 74 | Error: 8.914014160645343e+216\n",
      "Iteration: 75 | Error: 6.98171927025609e+219\n",
      "Iteration: 76 | Error: 5.4682888191795634e+222\n",
      "Iteration: 77 | Error: 4.282925373031707e+225\n",
      "Iteration: 78 | Error: 3.3545136984390216e+228\n",
      "Iteration: 79 | Error: 2.627354243403423e+231\n",
      "Iteration: 80 | Error: 2.057821473062456e+234\n",
      "Iteration: 81 | Error: 1.6117465795215645e+237\n",
      "Iteration: 82 | Error: 1.2623675428624612e+240\n",
      "Iteration: 83 | Error: 9.887235583559595e+242\n",
      "Iteration: 84 | Error: 7.743975044157009e+245\n",
      "Iteration: 85 | Error: 6.065310063436005e+248\n",
      "Iteration: 86 | Error: 4.750530051536692e+251\n",
      "Iteration: 87 | Error: 3.720755498815947e+254\n",
      "Iteration: 88 | Error: 2.9142056426926234e+257\n",
      "Iteration: 89 | Error: 2.2824919644959514e+260\n",
      "Iteration: 90 | Error: 1.787715146682286e+263\n",
      "Iteration: 91 | Error: 1.4001913239519475e+266\n",
      "Iteration: 92 | Error: 1.0966712159421749e+269\n",
      "Iteration: 93 | Error: 8.589452993335102e+271\n",
      "Iteration: 94 | Error: 6.727513374309581e+274\n",
      "Iteration: 95 | Error: 5.269187250530723e+277\n",
      "Iteration: 96 | Error: 4.1269831416730356e+280\n",
      "Iteration: 97 | Error: 3.232375135261695e+283\n",
      "Iteration: 98 | Error: 2.5316917119323262e+286\n",
      "Iteration: 99 | Error: 1.9828957519028558e+289\n"
     ]
    }
   ],
   "source": [
    "n = len(x1)\n",
    "lr = 0.01 # nothing but alpha in the G D equation\n",
    "iterations = 100\n",
    "# RANOM INITIALIZATION OF PARAMETERS\n",
    "np.random.seed(123)\n",
    "rand = np.random.randn(3)\n",
    "w1, w2, b = rand[0], rand[1], rand[2]\n",
    "print(\"Initialised Weights and Bias : \\n\", \"w1 =\",w1, \"|\", \"w2 =\",w2, \"|\", \"b =\",b)\n",
    "\n",
    "for iter_num in range(iterations):\n",
    "    y_pred, total_error = forward_pass(w1, w2, b)\n",
    "    print(f\"Iteration: {iter_num} | Error: {total_error}\")\n",
    "    w1, w2, b = weight_update(w1, w2, b, y_pred)"
   ]
  },
  {
   "cell_type": "markdown",
   "id": "3c5f2e86",
   "metadata": {},
   "source": [
    "# IN THE  ABOVE OUTPUT WE CAN SEE THE ERROR...THE EXPONENTS ARE INCREASING THEREFORE IT IS DIVERGING\n",
    "# HENCE WE HAVE TO COVERGE IT THEREFOE WE HAVE TO CONTROL THE LEARNING RATE LR"
   ]
  },
  {
   "cell_type": "code",
   "execution_count": 66,
   "id": "8da7b286",
   "metadata": {},
   "outputs": [
    {
     "name": "stdout",
     "output_type": "stream",
     "text": [
      "Initialised Weights and Bias : \n",
      " w1 = -1.0856306033005612 | w2 = 0.9973454465835858 | b = 0.28297849805199204\n",
      "Iteration: 0 | Error: 966.3065003908569\n",
      "Iteration: 1 | Error: 654.0112891302249\n",
      "Iteration: 2 | Error: 474.0559825454247\n",
      "Iteration: 3 | Error: 367.0998087734343\n",
      "Iteration: 4 | Error: 300.66896067520105\n",
      "Iteration: 5 | Error: 256.9729698833676\n",
      "Iteration: 6 | Error: 226.24755155957422\n",
      "Iteration: 7 | Error: 203.1170157390599\n",
      "Iteration: 8 | Error: 184.60652479005606\n",
      "Iteration: 9 | Error: 169.05580951222288\n",
      "Iteration: 10 | Error: 155.5254395966758\n",
      "Iteration: 11 | Error: 143.4722306446047\n",
      "Iteration: 12 | Error: 132.57171588461566\n",
      "Iteration: 13 | Error: 122.62098407428707\n",
      "Iteration: 14 | Error: 113.48543996405974\n",
      "Iteration: 15 | Error: 105.06957440178027\n",
      "Iteration: 16 | Error: 97.30086324514765\n",
      "Iteration: 17 | Error: 90.12084925207176\n",
      "Iteration: 18 | Error: 83.48015755664397\n",
      "Iteration: 19 | Error: 77.33566866765777\n",
      "Iteration: 20 | Error: 71.64887797155465\n",
      "Iteration: 21 | Error: 66.38491062666107\n",
      "Iteration: 22 | Error: 61.511901132524414\n",
      "Iteration: 23 | Error: 57.000578245015575\n",
      "Iteration: 24 | Error: 52.82396773105162\n",
      "Iteration: 25 | Error: 48.95716473296353\n",
      "Iteration: 26 | Error: 45.37714900323426\n",
      "Iteration: 27 | Error: 42.06262804112046\n",
      "Iteration: 28 | Error: 38.99389962058516\n",
      "Iteration: 29 | Error: 36.15272875205985\n",
      "Iteration: 30 | Error: 33.52223608469308\n",
      "Iteration: 31 | Error: 31.086795850016543\n",
      "Iteration: 32 | Error: 28.831942065392884\n",
      "Iteration: 33 | Error: 26.744282071060145\n",
      "Iteration: 34 | Error: 24.811416685550576\n",
      "Iteration: 35 | Error: 23.021866395041176\n",
      "Iteration: 36 | Error: 21.36500307800842\n",
      "Iteration: 37 | Error: 19.83098682674525\n",
      "Iteration: 38 | Error: 18.410707472491858\n",
      "Iteration: 39 | Error: 17.09573045702315\n",
      "Iteration: 40 | Error: 15.87824672380675\n",
      "Iteration: 41 | Error: 14.751026328155291\n",
      "Iteration: 42 | Error: 13.707375489217466\n",
      "Iteration: 43 | Error: 12.741096827822034\n",
      "Iteration: 44 | Error: 11.846452553511355\n",
      "Iteration: 45 | Error: 11.018130381834325\n",
      "Iteration: 46 | Error: 10.251211979306332\n",
      "Iteration: 47 | Error: 9.541143748521538\n",
      "Iteration: 48 | Error: 8.883709779839675\n",
      "Iteration: 49 | Error: 8.275006808957235\n",
      "Iteration: 50 | Error: 7.711421031599688\n",
      "Iteration: 51 | Error: 7.189606637606808\n",
      "Iteration: 52 | Error: 6.706465936901051\n",
      "Iteration: 53 | Error: 6.259130959285224\n",
      "Iteration: 54 | Error: 5.844946418771718\n",
      "Iteration: 55 | Error: 5.461453941251348\n",
      "Iteration: 56 | Error: 5.106377461813935\n",
      "Iteration: 57 | Error: 4.7776097049813515\n",
      "Iteration: 58 | Error: 4.473199667545223\n",
      "Iteration: 59 | Error: 4.19134102965837\n",
      "Iteration: 60 | Error: 3.9303614253414385\n",
      "Iteration: 61 | Error: 3.688712508672217\n",
      "Iteration: 62 | Error: 3.4649607566509895\n",
      "Iteration: 63 | Error: 3.2577789541109476\n",
      "Iteration: 64 | Error: 3.065938310094572\n",
      "Iteration: 65 | Error: 2.888301158867193\n",
      "Iteration: 66 | Error: 2.7238142022120684\n",
      "Iteration: 67 | Error: 2.571502252866408\n",
      "Iteration: 68 | Error: 2.4304624419343535\n",
      "Iteration: 69 | Error: 2.2998588558693474\n",
      "Iteration: 70 | Error: 2.178917571169386\n",
      "Iteration: 71 | Error: 2.06692205729177\n",
      "Iteration: 72 | Error: 1.9632089204803087\n",
      "Iteration: 73 | Error: 1.867163963223916\n",
      "Iteration: 74 | Error: 1.7782185359394544\n",
      "Iteration: 75 | Error: 1.6958461592082048\n",
      "Iteration: 76 | Error: 1.619559396502071\n",
      "Iteration: 77 | Error: 1.5489069588233733\n",
      "Iteration: 78 | Error: 1.4834710240602322\n",
      "Iteration: 79 | Error: 1.4228647551343605\n",
      "Iteration: 80 | Error: 1.3667300021990527\n",
      "Iteration: 81 | Error: 1.3147351752387235\n",
      "Iteration: 82 | Error: 1.2665732744330835\n",
      "Iteration: 83 | Error: 1.2219600665865045\n",
      "Iteration: 84 | Error: 1.1806323967904544\n",
      "Iteration: 85 | Error: 1.1423466252905743\n",
      "Iteration: 86 | Error: 1.1068771802730897\n",
      "Iteration: 87 | Error: 1.0740152179744684\n",
      "Iteration: 88 | Error: 1.0435673821551714\n",
      "Iteration: 89 | Error: 1.0153546555690052\n",
      "Iteration: 90 | Error: 0.9892112966056013\n",
      "Iteration: 91 | Error: 0.9649838547899157\n",
      "Iteration: 92 | Error: 0.9425302592907585\n",
      "Iteration: 93 | Error: 0.9217189750240452\n",
      "Iteration: 94 | Error: 0.9024282213382162\n",
      "Iteration: 95 | Error: 0.8845452486406516\n",
      "Iteration: 96 | Error: 0.8679656686683912\n",
      "Iteration: 97 | Error: 0.8525928344249073\n",
      "Iteration: 98 | Error: 0.8383372660998215\n",
      "Iteration: 99 | Error: 0.8251161195615513\n"
     ]
    }
   ],
   "source": [
    "# REDUCING THE LEARNING RATE\n",
    "n = len(x1)\n",
    "lr = 0.0006 # nothing but alpha in the G D equation\n",
    "iterations = 100\n",
    "# RANOM INITIALIZATION OF PARAMETERS\n",
    "np.random.seed(123)\n",
    "rand = np.random.randn(3)\n",
    "w1, w2, b = rand[0], rand[1], rand[2]\n",
    "print(\"Initialised Weights and Bias : \\n\", \"w1 =\",w1, \"|\", \"w2 =\",w2, \"|\", \"b =\",b)\n",
    "error = []\n",
    "for iter_num in range(iterations):\n",
    "    y_pred, total_error = forward_pass(w1, w2, b)\n",
    "    print(f\"Iteration: {iter_num} | Error: {total_error}\")\n",
    "    error.append(total_error)\n",
    "    w1, w2, b = weight_update(w1, w2, b, y_pred)"
   ]
  },
  {
   "cell_type": "markdown",
   "id": "550e8ff0",
   "metadata": {},
   "source": [
    "# after adjusting the learning rate we can ssee the error has become almost negligible \n",
    "# can also try to plot the error but capturing error in empty list after each iteration"
   ]
  },
  {
   "cell_type": "code",
   "execution_count": 68,
   "id": "a58fec57",
   "metadata": {
    "scrolled": false
   },
   "outputs": [
    {
     "data": {
      "image/png": "[encoded data removed]",
      "text/plain": [
       "<Figure size 640x480 with 1 Axes>"
      ]
     },
     "metadata": {},
     "output_type": "display_data"
    }
   ],
   "source": [
    "plt.plot(error)\n",
    "plt.xlabel(\"EPOCH or ITERATIONS\")\n",
    "plt.ylabel(\"SSE\")\n",
    "plt.grid()\n",
    "plt.show()"
   ]
  },
  {
   "cell_type": "code",
   "execution_count": 69,
   "id": "c2ef4212",
   "metadata": {},
   "outputs": [
    {
     "data": {
      "text/plain": [
       "(1.9850091446087428, -0.03125113776111091, 0.4592880004084873)"
      ]
     },
     "execution_count": 69,
     "metadata": {},
     "output_type": "execute_result"
    }
   ],
   "source": [
    "# final updated weights and bias\n",
    "w1, w2, b"
   ]
  },
  {
   "cell_type": "code",
   "execution_count": null,
   "id": "e3f11af5",
   "metadata": {},
   "outputs": [],
   "source": []
  }
 ],
 "metadata": {
  "kernelspec": {
   "display_name": "Python 3 (ipykernel)",
   "language": "python",
   "name": "python3"
  },
  "language_info": {
   "codemirror_mode": {
    "name": "ipython",
    "version": 3
   },
   "file_extension": ".py",
   "mimetype": "text/x-python",
   "name": "python",
   "nbconvert_exporter": "python",
   "pygments_lexer": "ipython3",
   "version": "3.10.0"
  }
 },
 "nbformat": 4,
 "nbformat_minor": 5
}
